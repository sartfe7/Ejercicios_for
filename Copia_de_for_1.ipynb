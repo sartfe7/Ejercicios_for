{
  "nbformat": 4,
  "nbformat_minor": 0,
  "metadata": {
    "colab": {
      "provenance": [],
      "authorship_tag": "ABX9TyNXzLflXvJR1NzAm1KXu1uo",
      "include_colab_link": true
    },
    "kernelspec": {
      "name": "python3",
      "display_name": "Python 3"
    },
    "language_info": {
      "name": "python"
    }
  },
  "cells": [
    {
      "cell_type": "markdown",
      "metadata": {
        "id": "view-in-github",
        "colab_type": "text"
      },
      "source": [
        "<a href=\"https://colab.research.google.com/github/sartfe7/Ejercicios_for/blob/main/Copia_de_for_1.ipynb\" target=\"_parent\"><img src=\"https://colab.research.google.com/assets/colab-badge.svg\" alt=\"Open In Colab\"/></a>"
      ]
    },
    {
      "cell_type": "markdown",
      "source": [],
      "metadata": {
        "id": "yNhn3gyPM2J4"
      }
    },
    {
      "cell_type": "markdown",
      "source": [
        "En un diagrama de flujo, la instrucción repetitiva for se representa típicamente con un rombo o diamante con la palabra \"for\" escrita dentro. Junto al rombo, se coloca una línea de entrada con la especificación del rango o la colección sobre la cual se iterará. Luego, dentro del rombo, se colocan las acciones o instrucciones que se repetirán en cada iteración del bucle for"
      ],
      "metadata": {
        "id": "f2zSFMjRjpRE"
      }
    },
    {
      "cell_type": "code",
      "source": [
        "# Ejercicio 2: Mostrar los numeros del 1 al 10, sin usar instrucciones repetitivas\n",
        "print(1)\n",
        "print(2)\n",
        "print(3)\n",
        "print(4)\n",
        "print(5)\n",
        "print(6)\n",
        "print(7)\n",
        "print(8)\n",
        "print(9)\n",
        "print(10)"
      ],
      "metadata": {
        "id": "sxmkPgRjjEdW"
      },
      "execution_count": null,
      "outputs": []
    },
    {
      "cell_type": "code",
      "source": [
        "# Ejercicio No.3: UTILIZANDO LA INSTRUCCION WHILE\n",
        "i=1\n",
        "while (i<=10):\n",
        "  print(i)\n",
        "  i=i+1"
      ],
      "metadata": {
        "colab": {
          "base_uri": "https://localhost:8080/"
        },
        "id": "_nWru8f4YhsK",
        "outputId": "7ec9d5c2-bfa5-4d6f-9118-dbeb178f25cd"
      },
      "execution_count": null,
      "outputs": [
        {
          "output_type": "stream",
          "name": "stdout",
          "text": [
            "1\n",
            "2\n",
            "3\n",
            "4\n",
            "5\n",
            "6\n",
            "7\n",
            "8\n",
            "9\n",
            "10\n"
          ]
        }
      ]
    },
    {
      "cell_type": "code",
      "source": [
        "# EjercicioNo.4: Mostrar los numeros del  al 10 usando la instruccion for\n",
        "\n",
        "for i in range(1,11):\n",
        "  print(i)"
      ],
      "metadata": {
        "colab": {
          "base_uri": "https://localhost:8080/"
        },
        "id": "UcdOuufcQMrs",
        "outputId": "4f2b7a53-4753-456c-893b-23f55cfac37f"
      },
      "execution_count": null,
      "outputs": [
        {
          "output_type": "stream",
          "name": "stdout",
          "text": [
            "1\n",
            "2\n",
            "3\n",
            "4\n",
            "5\n",
            "6\n",
            "7\n",
            "8\n",
            "9\n",
            "10\n"
          ]
        }
      ]
    },
    {
      "cell_type": "code",
      "source": [
        "# Ejercicio No.5: Mostrar los numeros del 1 al 10, usando la instruccion for y una lista\n",
        "\n",
        "mi_lista= [1,2,3,4,5,6,7,8,9,10]\n",
        "for i in mi_lista:\n",
        "  print(i)"
      ],
      "metadata": {
        "colab": {
          "base_uri": "https://localhost:8080/"
        },
        "id": "dtZTSDV1QhTL",
        "outputId": "b02f2ba6-45b2-4adc-dd4b-4f1f91958bbb"
      },
      "execution_count": null,
      "outputs": [
        {
          "output_type": "stream",
          "name": "stdout",
          "text": [
            "1\n",
            "2\n",
            "3\n",
            "4\n",
            "5\n",
            "6\n",
            "7\n",
            "8\n",
            "9\n",
            "10\n"
          ]
        }
      ]
    },
    {
      "cell_type": "code",
      "source": [
        "# Ejercicio No.6 : Mostrar una frase 10 veces, usando la instruccion for y una lista\n",
        "\n",
        "mi_lista=[1,2,3,4,5,6,7,8,9,10]\n",
        "for i in mi_lista:\n",
        "  print (f\"{i} Gunenta 200 años!\")\n"
      ],
      "metadata": {
        "colab": {
          "base_uri": "https://localhost:8080/"
        },
        "id": "tlOvJAFySAiN",
        "outputId": "cf4bb73f-7050-4308-d791-3e73d90863ac"
      },
      "execution_count": null,
      "outputs": [
        {
          "output_type": "stream",
          "name": "stdout",
          "text": [
            "1 Gunenta 200 años!\n",
            "2 Gunenta 200 años!\n",
            "3 Gunenta 200 años!\n",
            "4 Gunenta 200 años!\n",
            "5 Gunenta 200 años!\n",
            "6 Gunenta 200 años!\n",
            "7 Gunenta 200 años!\n",
            "8 Gunenta 200 años!\n",
            "9 Gunenta 200 años!\n",
            "10 Gunenta 200 años!\n"
          ]
        }
      ]
    },
    {
      "cell_type": "code",
      "source": [
        "# Ejercicio No.7: Mostrar la silaba inicial de los dias de la semana, usando for y una lista\n",
        "\n",
        "dias_semana=[\"lu\", \"ma\", \"mi\", \"ju\", \"vi\", \"sa\", \"do\"]\n",
        "for i in dias_semana:\n",
        "  print(i)\n"
      ],
      "metadata": {
        "colab": {
          "base_uri": "https://localhost:8080/"
        },
        "id": "tVFKkyMKRJui",
        "outputId": "4772f6c8-e1c3-4905-9255-679be64d29af"
      },
      "execution_count": null,
      "outputs": [
        {
          "output_type": "stream",
          "name": "stdout",
          "text": [
            "lu\n",
            "ma\n",
            "mi\n",
            "ju\n",
            "vi\n",
            "sa\n",
            "do\n"
          ]
        }
      ]
    },
    {
      "cell_type": "code",
      "source": [
        "# Ejercicio No.8: Mostrar una lista de distintos tipos de datos,  usando for\n",
        "\n",
        "mi_listica=[1, 3, 14, 9, True, \"Sarith\", 8 , \"Guanenta\"]\n",
        "for i in mi_listica:\n",
        "  print(i)\n"
      ],
      "metadata": {
        "colab": {
          "base_uri": "https://localhost:8080/"
        },
        "id": "2y203pa9V0DB",
        "outputId": "a8d17589-4838-4f8b-ab6d-6b2f5a5370de"
      },
      "execution_count": null,
      "outputs": [
        {
          "output_type": "stream",
          "name": "stdout",
          "text": [
            "1\n",
            "3\n",
            "14\n",
            "9\n",
            "True\n",
            "Sarith\n",
            "8\n",
            "Guanenta\n"
          ]
        }
      ]
    },
    {
      "cell_type": "code",
      "source": [
        "# Ejercicio No.9: Ingresar su nombre y mostrar letra por letra, usando la funcion for\n",
        "\n",
        "# Digite su nombre por favor\n",
        "\n",
        "nombre = input(\" Digite su nombre:\" )\n",
        "\n",
        "for i in nombre:\n",
        "  print(i)\n",
        "\n"
      ],
      "metadata": {
        "colab": {
          "base_uri": "https://localhost:8080/"
        },
        "id": "Xp2R0EHqXQgN",
        "outputId": "458cbecd-625f-45c5-9b97-cdb5589cc500"
      },
      "execution_count": null,
      "outputs": [
        {
          "output_type": "stream",
          "name": "stdout",
          "text": [
            " Digite su nombre:sarith\n",
            "s\n",
            "a\n",
            "r\n",
            "i\n",
            "t\n",
            "h\n"
          ]
        }
      ]
    },
    {
      "cell_type": "code",
      "source": [
        "# Ejercicio No.10: Ingresar su nombrey mostrarlo letra a letra, usando for\n",
        "# Reemplazando la vocal epor un sterisco\n",
        "\n",
        "nombre= input(\"Digite su nombre: \")\n",
        "for i in nombre:\n",
        "  if i=='e':\n",
        "    print(\"*\")\n",
        "  else:\n",
        "      print(i)"
      ],
      "metadata": {
        "colab": {
          "base_uri": "https://localhost:8080/"
        },
        "id": "H8vyAxiYYyld",
        "outputId": "f61ce03d-5e28-4b58-fd01-c378a5d15e86"
      },
      "execution_count": null,
      "outputs": [
        {
          "output_type": "stream",
          "name": "stdout",
          "text": [
            "Digite su nombre: figueredo\n",
            "f\n",
            "i\n",
            "g\n",
            "u\n",
            "*\n",
            "r\n",
            "*\n",
            "d\n",
            "o\n"
          ]
        }
      ]
    },
    {
      "cell_type": "code",
      "source": [
        "# Ejecicio No 11.: Ingresar su nombre y mostrarlo letra a letra en mayuscula, usando for\n",
        "\n",
        "nombre= input(\"Digite su nombre: \")\n",
        "for i in nombre:\n",
        "    print(i.upper)"
      ],
      "metadata": {
        "id": "gK4clv4AbVuY"
      },
      "execution_count": null,
      "outputs": []
    },
    {
      "cell_type": "code",
      "source": [
        "# Ejercicio No.12: Dada a la siguiente lista de numeros [20,21,30,41,50,51,20] mostrar en la pantalla solos los que terminan en uno(1)\n",
        "\n",
        "numeros=[20,21,30,41,50,51,20]\n",
        "\n",
        "for i in numeros:\n",
        "  if i % 10 != 1: # Verificar si el ultimo digito no es 1\n",
        "     print (numeros)"
      ],
      "metadata": {
        "id": "xZcUbaKmTFeO"
      },
      "execution_count": null,
      "outputs": []
    },
    {
      "cell_type": "code",
      "source": [
        "# Ejercicio 13: Mostrar mil veces la palabra \"Programación\"\n",
        "\n",
        "for_in range(1000):\n",
        "   print (\"Programacion\")"
      ],
      "metadata": {
        "id": "1t1dKhgxXvKl"
      },
      "execution_count": null,
      "outputs": []
    },
    {
      "cell_type": "code",
      "source": [
        "# Ejercicio 14: Mostrar los nombres completos de los meses\n",
        "\n",
        "mese= [\"Enero\",\"Febrero\",\"Marzo\",\"Abril\"]\n",
        "for mes in mese:\n",
        "    print(mes)"
      ],
      "metadata": {
        "id": "jJe1Pe39ZX7f"
      },
      "execution_count": null,
      "outputs": []
    },
    {
      "cell_type": "code",
      "source": [
        "# Ejercicio 15: Contar las vocales de un texto\n",
        "\n",
        "texto= input(\"Ingrese un texto por favor\")\n",
        "\n",
        "vocales= { 'a':0, 'e':0,'i':0,'o':0,'A';0,'E':0,'I':0,'O':0,'U':0}\n",
        "for letra in texto:\n",
        "    if letra in vocales:\n",
        "       vocales[letra]+=1\n",
        "for vocal, cantidad in vocales.items():\n",
        "    print(f\"{vocal}:{cantidad}\")"
      ],
      "metadata": {
        "id": "bswX4UgxZ2JU"
      },
      "execution_count": null,
      "outputs": []
    },
    {
      "cell_type": "code",
      "source": [
        "# Ejercicio 16: Contar numeros pares e impares\n",
        "\n",
        "pares = 0\n",
        "impares = 0\n",
        "for _ in range(20):\n",
        "    numero = int(input(\"Ingrese un número entero: \"))\n",
        "    if numero % 2 == 0:\n",
        "        pares += 1\n",
        "    else:\n",
        "        impares += 1\n",
        "print(f\"Números pares: {pares}\")\n",
        "print(f\"Números impares: {impares}\")"
      ],
      "metadata": {
        "id": "ul4pIgkLb_7C"
      },
      "execution_count": null,
      "outputs": []
    },
    {
      "cell_type": "code",
      "source": [
        "# Ejercicio 17: Contar multiples de 7 y 9 entre 1000 y 5000\n",
        "\n",
        "\n",
        "multiplos_7 = 0\n",
        "multiplos_9 = 0\n",
        "for numero in range(1000, 5001):\n",
        "    if numero % 7 == 0:\n",
        "        multiplos_7 += 1\n",
        "    if numero % 9 == 0:\n",
        "        multiplos_9 += 1\n",
        "print(f\"Múltiplos de 7: {multiplos_7}\")\n",
        "print(f\"Múltiplos de 9: {multiplos_9}\")"
      ],
      "metadata": {
        "id": "8lcznxnlgyjQ"
      },
      "execution_count": null,
      "outputs": []
    },
    {
      "cell_type": "code",
      "source": [
        "# Ejercico 18: Simular el lanzamiento de N dados y contar ocurrencias\n",
        "\n",
        "import random\n",
        "\n",
        "N = int(input(\"Ingrese el número de dados a lanzar: \"))\n",
        "resultados = {}\n",
        "for _ in range(N):\n",
        "    dado = random.randint(1, 6)\n",
        "    if dado in resultados:\n",
        "        resultados[dado] += 1\n",
        "    else:\n",
        "        resultados[dado] = 1\n",
        "\n",
        "for cara, veces in resultados.items():\n",
        "    print\n",
        "(f\"Cara {cara}: {'*' * veces}\")"
      ],
      "metadata": {
        "id": "kMqNH0juhOLo"
      },
      "execution_count": null,
      "outputs": []
    },
    {
      "cell_type": "code",
      "source": [
        "# Ejercicio 19: Calcular el factorial de un numero\n",
        "\n",
        "numero = int(input(\"Ingrese un número: \"))\n",
        "factorial = 1\n",
        "for i in range(1, numero + 1):\n",
        "    factorial *= i\n",
        "print(f\"El factorial de {numero} es {factorial}\")"
      ],
      "metadata": {
        "id": "Hl0Ui92ohtiS"
      },
      "execution_count": null,
      "outputs": []
    },
    {
      "cell_type": "code",
      "source": [
        "# Ejercicio 20: Imprimir la serie numerica\n",
        "\n",
        "for i in range(1, 11):\n",
        "    print(i ** 2, end=\", \")"
      ],
      "metadata": {
        "id": "Bl1s2gn_h6-0"
      },
      "execution_count": null,
      "outputs": []
    }
  ]
}